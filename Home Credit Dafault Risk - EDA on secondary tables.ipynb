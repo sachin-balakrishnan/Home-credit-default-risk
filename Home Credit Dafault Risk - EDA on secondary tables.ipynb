{
 "cells": [
  {
   "cell_type": "code",
   "execution_count": 1,
   "metadata": {},
   "outputs": [],
   "source": [
    "import numpy as np\n",
    "import pandas as pd\n",
    "import gc\n",
    "import time\n",
    "from contextlib import contextmanager\n",
    "import lightgbm as lgb\n",
    "from sklearn.metrics import roc_auc_score, roc_curve\n",
    "from sklearn.model_selection import KFold, StratifiedKFold\n",
    "import matplotlib.pyplot as plt\n",
    "import seaborn as sns\n",
    "import warnings"
   ]
  },
  {
   "cell_type": "code",
   "execution_count": 2,
   "metadata": {},
   "outputs": [
    {
     "data": {
      "text/html": [
       "<div>\n",
       "<style scoped>\n",
       "    .dataframe tbody tr th:only-of-type {\n",
       "        vertical-align: middle;\n",
       "    }\n",
       "\n",
       "    .dataframe tbody tr th {\n",
       "        vertical-align: top;\n",
       "    }\n",
       "\n",
       "    .dataframe thead th {\n",
       "        text-align: right;\n",
       "    }\n",
       "</style>\n",
       "<table border=\"1\" class=\"dataframe\">\n",
       "  <thead>\n",
       "    <tr style=\"text-align: right;\">\n",
       "      <th></th>\n",
       "      <th>SK_ID_CURR</th>\n",
       "      <th>TARGET</th>\n",
       "      <th>NAME_CONTRACT_TYPE</th>\n",
       "      <th>CODE_GENDER</th>\n",
       "      <th>FLAG_OWN_CAR</th>\n",
       "      <th>FLAG_OWN_REALTY</th>\n",
       "      <th>CNT_CHILDREN</th>\n",
       "      <th>AMT_INCOME_TOTAL</th>\n",
       "      <th>AMT_CREDIT</th>\n",
       "      <th>AMT_ANNUITY</th>\n",
       "      <th>...</th>\n",
       "      <th>FLAG_DOCUMENT_18</th>\n",
       "      <th>FLAG_DOCUMENT_19</th>\n",
       "      <th>FLAG_DOCUMENT_20</th>\n",
       "      <th>FLAG_DOCUMENT_21</th>\n",
       "      <th>AMT_REQ_CREDIT_BUREAU_HOUR</th>\n",
       "      <th>AMT_REQ_CREDIT_BUREAU_DAY</th>\n",
       "      <th>AMT_REQ_CREDIT_BUREAU_WEEK</th>\n",
       "      <th>AMT_REQ_CREDIT_BUREAU_MON</th>\n",
       "      <th>AMT_REQ_CREDIT_BUREAU_QRT</th>\n",
       "      <th>AMT_REQ_CREDIT_BUREAU_YEAR</th>\n",
       "    </tr>\n",
       "  </thead>\n",
       "  <tbody>\n",
       "    <tr>\n",
       "      <th>0</th>\n",
       "      <td>100002</td>\n",
       "      <td>1</td>\n",
       "      <td>Cash loans</td>\n",
       "      <td>M</td>\n",
       "      <td>N</td>\n",
       "      <td>Y</td>\n",
       "      <td>0</td>\n",
       "      <td>202500.0</td>\n",
       "      <td>406597.5</td>\n",
       "      <td>24700.5</td>\n",
       "      <td>...</td>\n",
       "      <td>0</td>\n",
       "      <td>0</td>\n",
       "      <td>0</td>\n",
       "      <td>0</td>\n",
       "      <td>0.0</td>\n",
       "      <td>0.0</td>\n",
       "      <td>0.0</td>\n",
       "      <td>0.0</td>\n",
       "      <td>0.0</td>\n",
       "      <td>1.0</td>\n",
       "    </tr>\n",
       "    <tr>\n",
       "      <th>1</th>\n",
       "      <td>100003</td>\n",
       "      <td>0</td>\n",
       "      <td>Cash loans</td>\n",
       "      <td>F</td>\n",
       "      <td>N</td>\n",
       "      <td>N</td>\n",
       "      <td>0</td>\n",
       "      <td>270000.0</td>\n",
       "      <td>1293502.5</td>\n",
       "      <td>35698.5</td>\n",
       "      <td>...</td>\n",
       "      <td>0</td>\n",
       "      <td>0</td>\n",
       "      <td>0</td>\n",
       "      <td>0</td>\n",
       "      <td>0.0</td>\n",
       "      <td>0.0</td>\n",
       "      <td>0.0</td>\n",
       "      <td>0.0</td>\n",
       "      <td>0.0</td>\n",
       "      <td>0.0</td>\n",
       "    </tr>\n",
       "  </tbody>\n",
       "</table>\n",
       "<p>2 rows × 122 columns</p>\n",
       "</div>"
      ],
      "text/plain": [
       "   SK_ID_CURR  TARGET NAME_CONTRACT_TYPE CODE_GENDER FLAG_OWN_CAR  \\\n",
       "0      100002       1         Cash loans           M            N   \n",
       "1      100003       0         Cash loans           F            N   \n",
       "\n",
       "  FLAG_OWN_REALTY  CNT_CHILDREN  AMT_INCOME_TOTAL  AMT_CREDIT  AMT_ANNUITY  \\\n",
       "0               Y             0          202500.0    406597.5      24700.5   \n",
       "1               N             0          270000.0   1293502.5      35698.5   \n",
       "\n",
       "   ...  FLAG_DOCUMENT_18 FLAG_DOCUMENT_19 FLAG_DOCUMENT_20 FLAG_DOCUMENT_21  \\\n",
       "0  ...                 0                0                0                0   \n",
       "1  ...                 0                0                0                0   \n",
       "\n",
       "  AMT_REQ_CREDIT_BUREAU_HOUR AMT_REQ_CREDIT_BUREAU_DAY  \\\n",
       "0                        0.0                       0.0   \n",
       "1                        0.0                       0.0   \n",
       "\n",
       "   AMT_REQ_CREDIT_BUREAU_WEEK  AMT_REQ_CREDIT_BUREAU_MON  \\\n",
       "0                         0.0                        0.0   \n",
       "1                         0.0                        0.0   \n",
       "\n",
       "   AMT_REQ_CREDIT_BUREAU_QRT  AMT_REQ_CREDIT_BUREAU_YEAR  \n",
       "0                        0.0                         1.0  \n",
       "1                        0.0                         0.0  \n",
       "\n",
       "[2 rows x 122 columns]"
      ]
     },
     "execution_count": 2,
     "metadata": {},
     "output_type": "execute_result"
    }
   ],
   "source": [
    "df1 = pd.read_csv('application_train.csv')\n",
    "df1.head(2)"
   ]
  },
  {
   "cell_type": "markdown",
   "metadata": {},
   "source": []
  },
  {
   "cell_type": "code",
   "execution_count": 3,
   "metadata": {},
   "outputs": [
    {
     "data": {
      "text/html": [
       "<div>\n",
       "<style scoped>\n",
       "    .dataframe tbody tr th:only-of-type {\n",
       "        vertical-align: middle;\n",
       "    }\n",
       "\n",
       "    .dataframe tbody tr th {\n",
       "        vertical-align: top;\n",
       "    }\n",
       "\n",
       "    .dataframe thead th {\n",
       "        text-align: right;\n",
       "    }\n",
       "</style>\n",
       "<table border=\"1\" class=\"dataframe\">\n",
       "  <thead>\n",
       "    <tr style=\"text-align: right;\">\n",
       "      <th></th>\n",
       "      <th>SK_ID_CURR</th>\n",
       "      <th>SK_ID_BUREAU</th>\n",
       "      <th>CREDIT_ACTIVE</th>\n",
       "      <th>CREDIT_CURRENCY</th>\n",
       "      <th>DAYS_CREDIT</th>\n",
       "      <th>CREDIT_DAY_OVERDUE</th>\n",
       "      <th>DAYS_CREDIT_ENDDATE</th>\n",
       "      <th>DAYS_ENDDATE_FACT</th>\n",
       "      <th>AMT_CREDIT_MAX_OVERDUE</th>\n",
       "      <th>CNT_CREDIT_PROLONG</th>\n",
       "      <th>AMT_CREDIT_SUM</th>\n",
       "      <th>AMT_CREDIT_SUM_DEBT</th>\n",
       "      <th>AMT_CREDIT_SUM_LIMIT</th>\n",
       "      <th>AMT_CREDIT_SUM_OVERDUE</th>\n",
       "      <th>CREDIT_TYPE</th>\n",
       "      <th>DAYS_CREDIT_UPDATE</th>\n",
       "      <th>AMT_ANNUITY</th>\n",
       "    </tr>\n",
       "  </thead>\n",
       "  <tbody>\n",
       "    <tr>\n",
       "      <th>0</th>\n",
       "      <td>215354</td>\n",
       "      <td>5714462</td>\n",
       "      <td>Closed</td>\n",
       "      <td>currency 1</td>\n",
       "      <td>-497</td>\n",
       "      <td>0</td>\n",
       "      <td>-153.0</td>\n",
       "      <td>-153.0</td>\n",
       "      <td>NaN</td>\n",
       "      <td>0</td>\n",
       "      <td>91323.0</td>\n",
       "      <td>0.0</td>\n",
       "      <td>NaN</td>\n",
       "      <td>0.0</td>\n",
       "      <td>Consumer credit</td>\n",
       "      <td>-131</td>\n",
       "      <td>NaN</td>\n",
       "    </tr>\n",
       "    <tr>\n",
       "      <th>1</th>\n",
       "      <td>215354</td>\n",
       "      <td>5714463</td>\n",
       "      <td>Active</td>\n",
       "      <td>currency 1</td>\n",
       "      <td>-208</td>\n",
       "      <td>0</td>\n",
       "      <td>1075.0</td>\n",
       "      <td>NaN</td>\n",
       "      <td>NaN</td>\n",
       "      <td>0</td>\n",
       "      <td>225000.0</td>\n",
       "      <td>171342.0</td>\n",
       "      <td>NaN</td>\n",
       "      <td>0.0</td>\n",
       "      <td>Credit card</td>\n",
       "      <td>-20</td>\n",
       "      <td>NaN</td>\n",
       "    </tr>\n",
       "    <tr>\n",
       "      <th>2</th>\n",
       "      <td>215354</td>\n",
       "      <td>5714464</td>\n",
       "      <td>Active</td>\n",
       "      <td>currency 1</td>\n",
       "      <td>-203</td>\n",
       "      <td>0</td>\n",
       "      <td>528.0</td>\n",
       "      <td>NaN</td>\n",
       "      <td>NaN</td>\n",
       "      <td>0</td>\n",
       "      <td>464323.5</td>\n",
       "      <td>NaN</td>\n",
       "      <td>NaN</td>\n",
       "      <td>0.0</td>\n",
       "      <td>Consumer credit</td>\n",
       "      <td>-16</td>\n",
       "      <td>NaN</td>\n",
       "    </tr>\n",
       "  </tbody>\n",
       "</table>\n",
       "</div>"
      ],
      "text/plain": [
       "   SK_ID_CURR  SK_ID_BUREAU CREDIT_ACTIVE CREDIT_CURRENCY  DAYS_CREDIT  \\\n",
       "0      215354       5714462        Closed      currency 1         -497   \n",
       "1      215354       5714463        Active      currency 1         -208   \n",
       "2      215354       5714464        Active      currency 1         -203   \n",
       "\n",
       "   CREDIT_DAY_OVERDUE  DAYS_CREDIT_ENDDATE  DAYS_ENDDATE_FACT  \\\n",
       "0                   0               -153.0             -153.0   \n",
       "1                   0               1075.0                NaN   \n",
       "2                   0                528.0                NaN   \n",
       "\n",
       "   AMT_CREDIT_MAX_OVERDUE  CNT_CREDIT_PROLONG  AMT_CREDIT_SUM  \\\n",
       "0                     NaN                   0         91323.0   \n",
       "1                     NaN                   0        225000.0   \n",
       "2                     NaN                   0        464323.5   \n",
       "\n",
       "   AMT_CREDIT_SUM_DEBT  AMT_CREDIT_SUM_LIMIT  AMT_CREDIT_SUM_OVERDUE  \\\n",
       "0                  0.0                   NaN                     0.0   \n",
       "1             171342.0                   NaN                     0.0   \n",
       "2                  NaN                   NaN                     0.0   \n",
       "\n",
       "       CREDIT_TYPE  DAYS_CREDIT_UPDATE  AMT_ANNUITY  \n",
       "0  Consumer credit                -131          NaN  \n",
       "1      Credit card                 -20          NaN  \n",
       "2  Consumer credit                 -16          NaN  "
      ]
     },
     "execution_count": 3,
     "metadata": {},
     "output_type": "execute_result"
    }
   ],
   "source": [
    "df2 = pd.read_csv('bureau.csv')\n",
    "df2.head(3)"
   ]
  },
  {
   "cell_type": "code",
   "execution_count": 4,
   "metadata": {},
   "outputs": [
    {
     "name": "stdout",
     "output_type": "stream",
     "text": [
      "CREDIT_ACTIVE    5.622545\n",
      "dtype: float64\n",
      "CREDIT_ACTIVE    5.556056\n",
      "dtype: float64\n",
      "CREDIT_ACTIVE    2.83631\n",
      "dtype: float64\n",
      "CREDIT_ACTIVE    2.465274\n",
      "dtype: float64\n",
      "DAYS_CREDIT   -396.838816\n",
      "dtype: float64\n",
      "DAYS_CREDIT   -497.04371\n",
      "dtype: float64\n",
      "                                        SK_ID_CURR\n",
      "CREDIT_TYPE                                       \n",
      "Another type of loan                      0.000533\n",
      "Car loan                                  0.011561\n",
      "Cash loan (non-earmarked)                 0.000009\n",
      "Consumer credit                           0.698970\n",
      "Credit card                               0.264251\n",
      "Loan for business development             0.000926\n",
      "Loan for the purchase of equipment        0.000035\n",
      "Loan for working capital replenishment    0.000419\n",
      "Microloan                                 0.016233\n",
      "Mortgage                                  0.006811\n",
      "Unknown type of loan                      0.000253\n",
      "                                              SK_ID_CURR\n",
      "CREDIT_TYPE                                             \n",
      "Another type of loan                            0.000587\n",
      "Car loan                                        0.016607\n",
      "Cash loan (non-earmarked)                       0.000016\n",
      "Consumer credit                                 0.732574\n",
      "Credit card                                     0.232151\n",
      "Interbank credit                                0.000001\n",
      "Loan for business development                   0.001196\n",
      "Loan for purchase of shares (margin lending)    0.000003\n",
      "Loan for the purchase of equipment              0.000010\n",
      "Loan for working capital replenishment          0.000244\n",
      "Microloan                                       0.005290\n",
      "Mobile operator loan                            0.000001\n",
      "Mortgage                                        0.010976\n",
      "Real estate loan                                0.000017\n",
      "Unknown type of loan                            0.000328\n"
     ]
    }
   ],
   "source": [
    "merge1 = df2.merge(df1[['SK_ID_CURR','TARGET']], on='SK_ID_CURR')\n",
    "\n",
    "# number of credit records\n",
    "print(merge1[['SK_ID_CURR','CREDIT_ACTIVE']][merge1['TARGET'] == 1].groupby('SK_ID_CURR').count().mean())\n",
    "print(merge1[['SK_ID_CURR','CREDIT_ACTIVE']][merge1['TARGET'] == 0].groupby('SK_ID_CURR').count().mean())\n",
    "\n",
    "print(merge1[['SK_ID_CURR','CREDIT_ACTIVE']][(merge1['TARGET'] == 1) & (merge1['CREDIT_ACTIVE']=='Active')].groupby('SK_ID_CURR').count().mean())\n",
    "print(merge1[['SK_ID_CURR','CREDIT_ACTIVE']][(merge1['TARGET'] == 0) & (merge1['CREDIT_ACTIVE']=='Active')].groupby('SK_ID_CURR').count().mean())\n",
    "\n",
    "# days between current and most recent credit application\n",
    "print(merge1[['SK_ID_CURR','DAYS_CREDIT']][(merge1['TARGET'] == 1)].groupby('SK_ID_CURR').max().mean())\n",
    "print(merge1[['SK_ID_CURR','DAYS_CREDIT']][(merge1['TARGET'] == 0)].groupby('SK_ID_CURR').max().mean())\n",
    "\n",
    "# type of credits\n",
    "print(merge1[['SK_ID_CURR','CREDIT_TYPE']][merge1['TARGET'] == 1].groupby('CREDIT_TYPE').count()/len(merge1[['SK_ID_CURR','CREDIT_TYPE']][merge1['TARGET'] == 1]))\n",
    "print(round(merge1[['SK_ID_CURR','CREDIT_TYPE']][merge1['TARGET'] == 0].groupby('CREDIT_TYPE').count()/len(merge1[['SK_ID_CURR','CREDIT_TYPE']][merge1['TARGET'] == 0]),6))\n"
   ]
  },
  {
   "cell_type": "code",
   "execution_count": 5,
   "metadata": {},
   "outputs": [
    {
     "data": {
      "text/plain": [
       "Text(0.5, 1.0, 'Average records of previous Credit Bureau credits')"
      ]
     },
     "execution_count": 5,
     "metadata": {},
     "output_type": "execute_result"
    },
    {
     "data": {
      "image/png": "[encoded data removed]",
      "text/plain": [
       "<Figure size 576x360 with 1 Axes>"
      ]
     },
     "metadata": {
      "needs_background": "light"
     },
     "output_type": "display_data"
    }
   ],
   "source": [
    "plt.figure(figsize=(8,5))\n",
    "sns.set_style(\"darkgrid\")\n",
    "data1 = pd.DataFrame({'type':['default','default','non-default','non-default'],\n",
    "                    'average previous credits':[5.622545,2.83631,5.556056,2.465274],\n",
    "                    'status of credits':['all','active','all','active']})\n",
    "\n",
    "ax = sns.barplot(x=\"status of credits\", y=\"average previous credits\", hue=\"type\", data=data1,palette=\"Blues_d\")\n",
    "plt.title('Average records of previous Credit Bureau credits')"
   ]
  },
  {
   "cell_type": "code",
   "execution_count": 6,
   "metadata": {},
   "outputs": [
    {
     "data": {
      "image/png": "[encoded data removed]",
      "text/plain": [
       "<Figure size 576x216 with 1 Axes>"
      ]
     },
     "metadata": {},
     "output_type": "display_data"
    }
   ],
   "source": [
    "plt.figure(figsize=(8,3))\n",
    "sns.set_style(\"darkgrid\")\n",
    "plt.title('Average days between current and last Credit Bureau credit application')\n",
    "data1_1 = pd.DataFrame({'type':['default','non-default'],\n",
    "                    'days':[396.838816,497.04371]})\n",
    "\n",
    "ax = sns.barplot(y=\"type\", x=\"days\",data=data1_1,palette=\"Blues_d\")"
   ]
  },
  {
   "cell_type": "code",
   "execution_count": 7,
   "metadata": {},
   "outputs": [
    {
     "data": {
      "text/plain": [
       "Text(0.5, 1.0, 'Type of Previous Credit Bureau credit')"
      ]
     },
     "execution_count": 7,
     "metadata": {},
     "output_type": "execute_result"
    },
    {
     "data": {
      "image/png": "[encoded data removed]",
      "text/plain": [
       "<Figure size 720x504 with 1 Axes>"
      ]
     },
     "metadata": {},
     "output_type": "display_data"
    }
   ],
   "source": [
    "df1_1 = merge1[['SK_ID_CURR','CREDIT_TYPE']][merge1['TARGET'] == 1].groupby('CREDIT_TYPE').count()/len(merge1[['SK_ID_CURR','CREDIT_TYPE']][merge1['TARGET'] == 1])\n",
    "df1_1 = df1_1.reset_index()\n",
    "df1_2 = round(merge1[['SK_ID_CURR','CREDIT_TYPE']][merge1['TARGET'] == 0].groupby('CREDIT_TYPE').count()/len(merge1[['SK_ID_CURR','CREDIT_TYPE']][merge1['TARGET'] == 0]),6)\n",
    "df1_2 = df1_2.reset_index()\n",
    "merge1_1 = pd.merge(df1_1, df1_2, on='CREDIT_TYPE', suffixes=['_default', '_non-default'])\n",
    "merge1_1['Default / Non-dafault'] = merge1_1['SK_ID_CURR_default']/merge1_1['SK_ID_CURR_non-default']\n",
    "merge1_1 = merge1_1.replace({'CREDIT_TYPE':'Cash loan (non-earmarked)'}, 'Cash loan')\n",
    "merge1_1 = merge1_1.replace({'CREDIT_TYPE':'Loan for business development'}, 'Business development')\n",
    "merge1_1 = merge1_1.replace({'CREDIT_TYPE':'Loan for the purchase of equipment'}, 'Purchase of equipment')\n",
    "merge1_1 = merge1_1.replace({'CREDIT_TYPE':'Loan for working capital replenishment'}, 'Working capital replenishment')\n",
    "\n",
    "plt.figure(figsize=(10,7))\n",
    "sns.set_style(\"darkgrid\")\n",
    "ax = sns.barplot(x=\"CREDIT_TYPE\", y=\"Default / Non-dafault\", data=merge1_1.loc[1:9],palette=\"Blues_d\")\n",
    "\n",
    "for item in ax.get_xticklabels():\n",
    "    item.set_rotation(40)\n",
    "plt.title('Type of Previous Credit Bureau credit')"
   ]
  },
  {
   "cell_type": "code",
   "execution_count": 8,
   "metadata": {},
   "outputs": [
    {
     "data": {
      "text/html": [
       "<div>\n",
       "<style scoped>\n",
       "    .dataframe tbody tr th:only-of-type {\n",
       "        vertical-align: middle;\n",
       "    }\n",
       "\n",
       "    .dataframe tbody tr th {\n",
       "        vertical-align: top;\n",
       "    }\n",
       "\n",
       "    .dataframe thead th {\n",
       "        text-align: right;\n",
       "    }\n",
       "</style>\n",
       "<table border=\"1\" class=\"dataframe\">\n",
       "  <thead>\n",
       "    <tr style=\"text-align: right;\">\n",
       "      <th></th>\n",
       "      <th>SK_ID_BUREAU</th>\n",
       "      <th>MONTHS_BALANCE</th>\n",
       "      <th>STATUS</th>\n",
       "    </tr>\n",
       "  </thead>\n",
       "  <tbody>\n",
       "    <tr>\n",
       "      <th>0</th>\n",
       "      <td>5715448</td>\n",
       "      <td>0</td>\n",
       "      <td>C</td>\n",
       "    </tr>\n",
       "    <tr>\n",
       "      <th>1</th>\n",
       "      <td>5715448</td>\n",
       "      <td>-1</td>\n",
       "      <td>C</td>\n",
       "    </tr>\n",
       "  </tbody>\n",
       "</table>\n",
       "</div>"
      ],
      "text/plain": [
       "   SK_ID_BUREAU  MONTHS_BALANCE STATUS\n",
       "0       5715448               0      C\n",
       "1       5715448              -1      C"
      ]
     },
     "execution_count": 8,
     "metadata": {},
     "output_type": "execute_result"
    }
   ],
   "source": [
    "df3 = pd.read_csv('bureau_balance.csv')\n",
    "df3.head(2)"
   ]
  },
  {
   "cell_type": "code",
   "execution_count": 9,
   "metadata": {},
   "outputs": [
    {
     "name": "stdout",
     "output_type": "stream",
     "text": [
      "        SK_ID_CURR\n",
      "STATUS            \n",
      "0         0.320654\n",
      "1         0.018672\n",
      "2         0.001490\n",
      "3         0.000381\n",
      "4         0.000416\n",
      "5         0.003083\n",
      "C         0.480461\n",
      "X         0.174842\n",
      "        SK_ID_CURR\n",
      "STATUS            \n",
      "0         0.266127\n",
      "1         0.009802\n",
      "2         0.000585\n",
      "3         0.000243\n",
      "4         0.000159\n",
      "5         0.002219\n",
      "C         0.550753\n",
      "X         0.170112\n"
     ]
    }
   ],
   "source": [
    "merge2 = df3.merge(df2,on='SK_ID_BUREAU').merge(df1[['SK_ID_CURR','TARGET']], on='SK_ID_CURR')\n",
    "print(merge2[['SK_ID_CURR','STATUS']][(merge2['TARGET'] == 1) & (merge2['MONTHS_BALANCE'] == -1)].groupby('STATUS').count()/len(merge2[['SK_ID_CURR','STATUS']][(merge2['TARGET'] == 1) & (merge2['MONTHS_BALANCE'] == -1)]))\n",
    "print(merge2[['SK_ID_CURR','STATUS']][(merge2['TARGET'] == 0) & (merge2['MONTHS_BALANCE'] == -1)].groupby('STATUS').count()/len(merge2[['SK_ID_CURR','STATUS']][(merge2['TARGET'] == 0) & (merge2['MONTHS_BALANCE'] == -1)]))"
   ]
  },
  {
   "cell_type": "code",
   "execution_count": 10,
   "metadata": {},
   "outputs": [
    {
     "data": {
      "text/plain": [
       "Text(0.5, 1.0, 'Status of Most Recent Credit Bureau loan')"
      ]
     },
     "execution_count": 10,
     "metadata": {},
     "output_type": "execute_result"
    },
    {
     "data": {
      "image/png": "[encoded data removed]",
      "text/plain": [
       "<Figure size 720x504 with 1 Axes>"
      ]
     },
     "metadata": {},
     "output_type": "display_data"
    }
   ],
   "source": [
    "merge2 = df3.merge(df2,on='SK_ID_BUREAU').merge(df1[['SK_ID_CURR','TARGET']], on='SK_ID_CURR')\n",
    "df2_1 = merge2[['SK_ID_CURR','STATUS']][(merge2['TARGET'] == 1) & (merge2['MONTHS_BALANCE'] == -1)].groupby('STATUS').count()/len(merge2[['SK_ID_CURR','STATUS']][(merge2['TARGET'] == 1) & (merge2['MONTHS_BALANCE'] == -1)])\n",
    "df2_1 = df2_1.reset_index()\n",
    "df2_2 = merge2[['SK_ID_CURR','STATUS']][(merge2['TARGET'] == 0) & (merge2['MONTHS_BALANCE'] == -1)].groupby('STATUS').count()/len(merge2[['SK_ID_CURR','STATUS']][(merge2['TARGET'] == 0) & (merge2['MONTHS_BALANCE'] == -1)])\n",
    "df2_2 = df2_2.reset_index()\n",
    "merge2_1 = pd.merge(df2_1, df2_2, on='STATUS', suffixes=['_default', '_non-default'])\n",
    "merge2_1['Default / Non-dafault'] = merge2_1['SK_ID_CURR_default']/merge2_1['SK_ID_CURR_non-default']\n",
    "\n",
    "plt.figure(figsize=(10,7))\n",
    "sns.set_style(\"darkgrid\")\n",
    "ax = sns.barplot(x=\"STATUS\", y=\"Default / Non-dafault\", data=merge2_1,palette=\"Blues_d\")\n",
    "plt.title('Status of Most Recent Credit Bureau loan')\n",
    "\n",
    "# C means closed, X means status unknown, 0 means no DPD, 1 means maximal did during month between 1-30,\n",
    "# 2 means DPD 31-60,… 5 means DPD 120+ or sold or written off "
   ]
  },
  {
   "cell_type": "code",
   "execution_count": 11,
   "metadata": {},
   "outputs": [
    {
     "data": {
      "text/html": [
       "<div>\n",
       "<style scoped>\n",
       "    .dataframe tbody tr th:only-of-type {\n",
       "        vertical-align: middle;\n",
       "    }\n",
       "\n",
       "    .dataframe tbody tr th {\n",
       "        vertical-align: top;\n",
       "    }\n",
       "\n",
       "    .dataframe thead th {\n",
       "        text-align: right;\n",
       "    }\n",
       "</style>\n",
       "<table border=\"1\" class=\"dataframe\">\n",
       "  <thead>\n",
       "    <tr style=\"text-align: right;\">\n",
       "      <th></th>\n",
       "      <th>SK_ID_PREV</th>\n",
       "      <th>SK_ID_CURR</th>\n",
       "      <th>MONTHS_BALANCE</th>\n",
       "      <th>CNT_INSTALMENT</th>\n",
       "      <th>CNT_INSTALMENT_FUTURE</th>\n",
       "      <th>NAME_CONTRACT_STATUS</th>\n",
       "      <th>SK_DPD</th>\n",
       "      <th>SK_DPD_DEF</th>\n",
       "    </tr>\n",
       "  </thead>\n",
       "  <tbody>\n",
       "    <tr>\n",
       "      <th>0</th>\n",
       "      <td>1803195</td>\n",
       "      <td>182943</td>\n",
       "      <td>-31</td>\n",
       "      <td>48.0</td>\n",
       "      <td>45.0</td>\n",
       "      <td>Active</td>\n",
       "      <td>0</td>\n",
       "      <td>0</td>\n",
       "    </tr>\n",
       "    <tr>\n",
       "      <th>1</th>\n",
       "      <td>1715348</td>\n",
       "      <td>367990</td>\n",
       "      <td>-33</td>\n",
       "      <td>36.0</td>\n",
       "      <td>35.0</td>\n",
       "      <td>Active</td>\n",
       "      <td>0</td>\n",
       "      <td>0</td>\n",
       "    </tr>\n",
       "  </tbody>\n",
       "</table>\n",
       "</div>"
      ],
      "text/plain": [
       "   SK_ID_PREV  SK_ID_CURR  MONTHS_BALANCE  CNT_INSTALMENT  \\\n",
       "0     1803195      182943             -31            48.0   \n",
       "1     1715348      367990             -33            36.0   \n",
       "\n",
       "   CNT_INSTALMENT_FUTURE NAME_CONTRACT_STATUS  SK_DPD  SK_DPD_DEF  \n",
       "0                   45.0               Active       0           0  \n",
       "1                   35.0               Active       0           0  "
      ]
     },
     "execution_count": 11,
     "metadata": {},
     "output_type": "execute_result"
    }
   ],
   "source": [
    "df4 = pd.read_csv('POS_CASH_balance.csv')\n",
    "df4.head(2)"
   ]
  },
  {
   "cell_type": "code",
   "execution_count": 12,
   "metadata": {},
   "outputs": [
    {
     "name": "stdout",
     "output_type": "stream",
     "text": [
      "CNT_INSTALMENT    24.40787\n",
      "dtype: float64\n",
      "CNT_INSTALMENT    22.464601\n",
      "dtype: float64\n",
      "CNT_INSTALMENT_FUTURE    14.187227\n",
      "dtype: float64\n",
      "CNT_INSTALMENT_FUTURE    11.980522\n",
      "dtype: float64\n"
     ]
    }
   ],
   "source": [
    "merge3 = df4.merge(df1[['SK_ID_CURR','TARGET']],on='SK_ID_CURR')\n",
    "\n",
    "print(merge3[['CNT_INSTALMENT']][(merge3['TARGET'] == 1) & (merge3['MONTHS_BALANCE'] == -1)].mean())\n",
    "print(merge3[['CNT_INSTALMENT']][(merge3['TARGET'] == 0) & (merge3['MONTHS_BALANCE'] == -1)].mean())\n",
    "\n",
    "print(merge3[['CNT_INSTALMENT_FUTURE']][(merge3['TARGET'] == 1) & (merge3['MONTHS_BALANCE'] == -1)].mean())\n",
    "print(merge3[['CNT_INSTALMENT_FUTURE']][(merge3['TARGET'] == 0) & (merge3['MONTHS_BALANCE'] == -1)].mean())"
   ]
  },
  {
   "cell_type": "code",
   "execution_count": 13,
   "metadata": {},
   "outputs": [
    {
     "data": {
      "image/png": "[encoded data removed]",
      "text/plain": [
       "<Figure size 576x360 with 1 Axes>"
      ]
     },
     "metadata": {},
     "output_type": "display_data"
    }
   ],
   "source": [
    "plt.figure(figsize=(8,5))\n",
    "sns.set_style(\"darkgrid\")\n",
    "data3 = pd.DataFrame({'Target':['default','default','non-default','non-default'],\n",
    "                    'Average terms':[24.40787,14.187227,22.464601,11.980522],\n",
    "                    'Previous credit in Home Credit':['Term of previous credit','Installments left','Term of previous credit','Installments left']})\n",
    "\n",
    "ax = sns.barplot(y=\"Previous credit in Home Credit\", x=\"Average terms\", hue=\"Target\", data=data3,palette=\"Blues_d\")"
   ]
  },
  {
   "cell_type": "code",
   "execution_count": 14,
   "metadata": {},
   "outputs": [
    {
     "data": {
      "text/html": [
       "<div>\n",
       "<style scoped>\n",
       "    .dataframe tbody tr th:only-of-type {\n",
       "        vertical-align: middle;\n",
       "    }\n",
       "\n",
       "    .dataframe tbody tr th {\n",
       "        vertical-align: top;\n",
       "    }\n",
       "\n",
       "    .dataframe thead th {\n",
       "        text-align: right;\n",
       "    }\n",
       "</style>\n",
       "<table border=\"1\" class=\"dataframe\">\n",
       "  <thead>\n",
       "    <tr style=\"text-align: right;\">\n",
       "      <th></th>\n",
       "      <th>SK_ID_PREV</th>\n",
       "      <th>SK_ID_CURR</th>\n",
       "      <th>MONTHS_BALANCE</th>\n",
       "      <th>AMT_BALANCE</th>\n",
       "      <th>AMT_CREDIT_LIMIT_ACTUAL</th>\n",
       "      <th>AMT_DRAWINGS_ATM_CURRENT</th>\n",
       "      <th>AMT_DRAWINGS_CURRENT</th>\n",
       "      <th>AMT_DRAWINGS_OTHER_CURRENT</th>\n",
       "      <th>AMT_DRAWINGS_POS_CURRENT</th>\n",
       "      <th>AMT_INST_MIN_REGULARITY</th>\n",
       "      <th>...</th>\n",
       "      <th>AMT_RECIVABLE</th>\n",
       "      <th>AMT_TOTAL_RECEIVABLE</th>\n",
       "      <th>CNT_DRAWINGS_ATM_CURRENT</th>\n",
       "      <th>CNT_DRAWINGS_CURRENT</th>\n",
       "      <th>CNT_DRAWINGS_OTHER_CURRENT</th>\n",
       "      <th>CNT_DRAWINGS_POS_CURRENT</th>\n",
       "      <th>CNT_INSTALMENT_MATURE_CUM</th>\n",
       "      <th>NAME_CONTRACT_STATUS</th>\n",
       "      <th>SK_DPD</th>\n",
       "      <th>SK_DPD_DEF</th>\n",
       "    </tr>\n",
       "  </thead>\n",
       "  <tbody>\n",
       "    <tr>\n",
       "      <th>0</th>\n",
       "      <td>2562384</td>\n",
       "      <td>378907</td>\n",
       "      <td>-6</td>\n",
       "      <td>56.970</td>\n",
       "      <td>135000</td>\n",
       "      <td>0.0</td>\n",
       "      <td>877.5</td>\n",
       "      <td>0.0</td>\n",
       "      <td>877.5</td>\n",
       "      <td>1700.325</td>\n",
       "      <td>...</td>\n",
       "      <td>0.000</td>\n",
       "      <td>0.000</td>\n",
       "      <td>0.0</td>\n",
       "      <td>1</td>\n",
       "      <td>0.0</td>\n",
       "      <td>1.0</td>\n",
       "      <td>35.0</td>\n",
       "      <td>Active</td>\n",
       "      <td>0</td>\n",
       "      <td>0</td>\n",
       "    </tr>\n",
       "    <tr>\n",
       "      <th>1</th>\n",
       "      <td>2582071</td>\n",
       "      <td>363914</td>\n",
       "      <td>-1</td>\n",
       "      <td>63975.555</td>\n",
       "      <td>45000</td>\n",
       "      <td>2250.0</td>\n",
       "      <td>2250.0</td>\n",
       "      <td>0.0</td>\n",
       "      <td>0.0</td>\n",
       "      <td>2250.000</td>\n",
       "      <td>...</td>\n",
       "      <td>64875.555</td>\n",
       "      <td>64875.555</td>\n",
       "      <td>1.0</td>\n",
       "      <td>1</td>\n",
       "      <td>0.0</td>\n",
       "      <td>0.0</td>\n",
       "      <td>69.0</td>\n",
       "      <td>Active</td>\n",
       "      <td>0</td>\n",
       "      <td>0</td>\n",
       "    </tr>\n",
       "  </tbody>\n",
       "</table>\n",
       "<p>2 rows × 23 columns</p>\n",
       "</div>"
      ],
      "text/plain": [
       "   SK_ID_PREV  SK_ID_CURR  MONTHS_BALANCE  AMT_BALANCE  \\\n",
       "0     2562384      378907              -6       56.970   \n",
       "1     2582071      363914              -1    63975.555   \n",
       "\n",
       "   AMT_CREDIT_LIMIT_ACTUAL  AMT_DRAWINGS_ATM_CURRENT  AMT_DRAWINGS_CURRENT  \\\n",
       "0                   135000                       0.0                 877.5   \n",
       "1                    45000                    2250.0                2250.0   \n",
       "\n",
       "   AMT_DRAWINGS_OTHER_CURRENT  AMT_DRAWINGS_POS_CURRENT  \\\n",
       "0                         0.0                     877.5   \n",
       "1                         0.0                       0.0   \n",
       "\n",
       "   AMT_INST_MIN_REGULARITY  ...  AMT_RECIVABLE  AMT_TOTAL_RECEIVABLE  \\\n",
       "0                 1700.325  ...          0.000                 0.000   \n",
       "1                 2250.000  ...      64875.555             64875.555   \n",
       "\n",
       "   CNT_DRAWINGS_ATM_CURRENT  CNT_DRAWINGS_CURRENT  CNT_DRAWINGS_OTHER_CURRENT  \\\n",
       "0                       0.0                     1                         0.0   \n",
       "1                       1.0                     1                         0.0   \n",
       "\n",
       "   CNT_DRAWINGS_POS_CURRENT  CNT_INSTALMENT_MATURE_CUM  NAME_CONTRACT_STATUS  \\\n",
       "0                       1.0                       35.0                Active   \n",
       "1                       0.0                       69.0                Active   \n",
       "\n",
       "   SK_DPD  SK_DPD_DEF  \n",
       "0       0           0  \n",
       "1       0           0  \n",
       "\n",
       "[2 rows x 23 columns]"
      ]
     },
     "execution_count": 14,
     "metadata": {},
     "output_type": "execute_result"
    }
   ],
   "source": [
    "df5 = pd.read_csv('credit_card_balance.csv')\n",
    "df5.head(2)"
   ]
  },
  {
   "cell_type": "code",
   "execution_count": 15,
   "metadata": {},
   "outputs": [
    {
     "data": {
      "text/plain": [
       "Text(0.5, 1.0, 'Average Credit Card Balance Before Application Date')"
      ]
     },
     "execution_count": 15,
     "metadata": {},
     "output_type": "execute_result"
    },
    {
     "data": {
      "image/png": "[encoded data removed]",
      "text/plain": [
       "<Figure size 720x504 with 1 Axes>"
      ]
     },
     "metadata": {},
     "output_type": "display_data"
    }
   ],
   "source": [
    "merge4 = df5.merge(df1[['SK_ID_CURR','TARGET']],on='SK_ID_CURR')\n",
    "\n",
    "df4_1 = merge4[['MONTHS_BALANCE','AMT_BALANCE']][merge4['TARGET']==1].groupby('MONTHS_BALANCE').sum()/merge4[['MONTHS_BALANCE','AMT_BALANCE']][merge4['TARGET']==1].groupby('MONTHS_BALANCE').count()\n",
    "df4_1 = df4_1.reset_index()\n",
    "df4_2 = merge4[['MONTHS_BALANCE','AMT_BALANCE']][merge4['TARGET']==0].groupby('MONTHS_BALANCE').sum()/merge4[['MONTHS_BALANCE','AMT_BALANCE']][merge4['TARGET']==0].groupby('MONTHS_BALANCE').count()\n",
    "df4_2 = df4_2.reset_index()\n",
    "\n",
    "merge4_1 = df4_1.merge(df4_2,on='MONTHS_BALANCE',suffixes=['_default', '_non-default'])\n",
    "merge4_1.columns = ['Month of balance relative to application date','Default','Non-default']\n",
    "\n",
    "plt.figure(figsize=(10,7))\n",
    "sns.set_style(\"darkgrid\")\n",
    "ax = sns.lineplot(x='Month of balance relative to application date', y='Monthly balance', hue='Target', \n",
    "             data=pd.melt(merge4_1, \n",
    "                          id_vars=['Month of balance relative to application date'], \n",
    "                          var_name='Target', \n",
    "                          value_name='Monthly balance'))\n",
    "plt.title('Average Credit Card Balance Before Application Date')"
   ]
  },
  {
   "cell_type": "code",
   "execution_count": 16,
   "metadata": {},
   "outputs": [
    {
     "data": {
      "text/html": [
       "<div>\n",
       "<style scoped>\n",
       "    .dataframe tbody tr th:only-of-type {\n",
       "        vertical-align: middle;\n",
       "    }\n",
       "\n",
       "    .dataframe tbody tr th {\n",
       "        vertical-align: top;\n",
       "    }\n",
       "\n",
       "    .dataframe thead th {\n",
       "        text-align: right;\n",
       "    }\n",
       "</style>\n",
       "<table border=\"1\" class=\"dataframe\">\n",
       "  <thead>\n",
       "    <tr style=\"text-align: right;\">\n",
       "      <th></th>\n",
       "      <th>SK_ID_PREV</th>\n",
       "      <th>SK_ID_CURR</th>\n",
       "      <th>NAME_CONTRACT_TYPE</th>\n",
       "      <th>AMT_ANNUITY</th>\n",
       "      <th>AMT_APPLICATION</th>\n",
       "      <th>AMT_CREDIT</th>\n",
       "      <th>AMT_DOWN_PAYMENT</th>\n",
       "      <th>AMT_GOODS_PRICE</th>\n",
       "      <th>WEEKDAY_APPR_PROCESS_START</th>\n",
       "      <th>HOUR_APPR_PROCESS_START</th>\n",
       "      <th>...</th>\n",
       "      <th>NAME_SELLER_INDUSTRY</th>\n",
       "      <th>CNT_PAYMENT</th>\n",
       "      <th>NAME_YIELD_GROUP</th>\n",
       "      <th>PRODUCT_COMBINATION</th>\n",
       "      <th>DAYS_FIRST_DRAWING</th>\n",
       "      <th>DAYS_FIRST_DUE</th>\n",
       "      <th>DAYS_LAST_DUE_1ST_VERSION</th>\n",
       "      <th>DAYS_LAST_DUE</th>\n",
       "      <th>DAYS_TERMINATION</th>\n",
       "      <th>NFLAG_INSURED_ON_APPROVAL</th>\n",
       "    </tr>\n",
       "  </thead>\n",
       "  <tbody>\n",
       "    <tr>\n",
       "      <th>0</th>\n",
       "      <td>2030495</td>\n",
       "      <td>271877</td>\n",
       "      <td>Consumer loans</td>\n",
       "      <td>1730.430</td>\n",
       "      <td>17145.0</td>\n",
       "      <td>17145.0</td>\n",
       "      <td>0.0</td>\n",
       "      <td>17145.0</td>\n",
       "      <td>SATURDAY</td>\n",
       "      <td>15</td>\n",
       "      <td>...</td>\n",
       "      <td>Connectivity</td>\n",
       "      <td>12.0</td>\n",
       "      <td>middle</td>\n",
       "      <td>POS mobile with interest</td>\n",
       "      <td>365243.0</td>\n",
       "      <td>-42.0</td>\n",
       "      <td>300.0</td>\n",
       "      <td>-42.0</td>\n",
       "      <td>-37.0</td>\n",
       "      <td>0.0</td>\n",
       "    </tr>\n",
       "    <tr>\n",
       "      <th>1</th>\n",
       "      <td>2802425</td>\n",
       "      <td>108129</td>\n",
       "      <td>Cash loans</td>\n",
       "      <td>25188.615</td>\n",
       "      <td>607500.0</td>\n",
       "      <td>679671.0</td>\n",
       "      <td>NaN</td>\n",
       "      <td>607500.0</td>\n",
       "      <td>THURSDAY</td>\n",
       "      <td>11</td>\n",
       "      <td>...</td>\n",
       "      <td>XNA</td>\n",
       "      <td>36.0</td>\n",
       "      <td>low_action</td>\n",
       "      <td>Cash X-Sell: low</td>\n",
       "      <td>365243.0</td>\n",
       "      <td>-134.0</td>\n",
       "      <td>916.0</td>\n",
       "      <td>365243.0</td>\n",
       "      <td>365243.0</td>\n",
       "      <td>1.0</td>\n",
       "    </tr>\n",
       "  </tbody>\n",
       "</table>\n",
       "<p>2 rows × 37 columns</p>\n",
       "</div>"
      ],
      "text/plain": [
       "   SK_ID_PREV  SK_ID_CURR NAME_CONTRACT_TYPE  AMT_ANNUITY  AMT_APPLICATION  \\\n",
       "0     2030495      271877     Consumer loans     1730.430          17145.0   \n",
       "1     2802425      108129         Cash loans    25188.615         607500.0   \n",
       "\n",
       "   AMT_CREDIT  AMT_DOWN_PAYMENT  AMT_GOODS_PRICE WEEKDAY_APPR_PROCESS_START  \\\n",
       "0     17145.0               0.0          17145.0                   SATURDAY   \n",
       "1    679671.0               NaN         607500.0                   THURSDAY   \n",
       "\n",
       "   HOUR_APPR_PROCESS_START  ... NAME_SELLER_INDUSTRY  CNT_PAYMENT  \\\n",
       "0                       15  ...         Connectivity         12.0   \n",
       "1                       11  ...                  XNA         36.0   \n",
       "\n",
       "   NAME_YIELD_GROUP       PRODUCT_COMBINATION  DAYS_FIRST_DRAWING  \\\n",
       "0            middle  POS mobile with interest            365243.0   \n",
       "1        low_action          Cash X-Sell: low            365243.0   \n",
       "\n",
       "  DAYS_FIRST_DUE DAYS_LAST_DUE_1ST_VERSION  DAYS_LAST_DUE DAYS_TERMINATION  \\\n",
       "0          -42.0                     300.0          -42.0            -37.0   \n",
       "1         -134.0                     916.0       365243.0         365243.0   \n",
       "\n",
       "  NFLAG_INSURED_ON_APPROVAL  \n",
       "0                       0.0  \n",
       "1                       1.0  \n",
       "\n",
       "[2 rows x 37 columns]"
      ]
     },
     "execution_count": 16,
     "metadata": {},
     "output_type": "execute_result"
    }
   ],
   "source": [
    "df6 = pd.read_csv('previous_application.csv')\n",
    "df6.head(2)"
   ]
  },
  {
   "cell_type": "code",
   "execution_count": 17,
   "metadata": {},
   "outputs": [
    {
     "name": "stdout",
     "output_type": "stream",
     "text": [
      "AMT_APPLICATION    169918.355998\n",
      "dtype: float64\n",
      "AMT_APPLICATION    175748.182419\n",
      "dtype: float64\n",
      "AMT_CREDIT    193914.702632\n",
      "dtype: float64\n",
      "AMT_CREDIT    196585.226093\n",
      "dtype: float64\n",
      "DIFF    23994.957947\n",
      "dtype: float64\n",
      "DIFF    20837.043674\n",
      "dtype: float64\n"
     ]
    }
   ],
   "source": [
    "merge5 = df6.merge(df1[['SK_ID_CURR','TARGET']],on='SK_ID_CURR')\n",
    "print(merge5[['AMT_APPLICATION']][merge5['TARGET'] == 1].mean())\n",
    "print(merge5[['AMT_APPLICATION']][merge5['TARGET'] == 0].mean())\n",
    "\n",
    "print(merge5[['AMT_CREDIT']][merge5['TARGET'] == 1].mean())\n",
    "print(merge5[['AMT_CREDIT']][merge5['TARGET'] == 0].mean())\n",
    "\n",
    "merge5['DIFF'] = merge5['AMT_CREDIT'] - merge5['AMT_APPLICATION']\n",
    "print(merge5[['DIFF']][merge5['TARGET'] == 1].mean())\n",
    "print(merge5[['DIFF']][merge5['TARGET'] == 0].mean())"
   ]
  },
  {
   "cell_type": "code",
   "execution_count": 18,
   "metadata": {},
   "outputs": [
    {
     "data": {
      "text/plain": [
       "Text(0.5, 1.0, 'Previous Applications for Home Credit loans')"
      ]
     },
     "execution_count": 18,
     "metadata": {},
     "output_type": "execute_result"
    },
    {
     "data": {
      "image/png": "[encoded data removed]",
      "text/plain": [
       "<Figure size 720x504 with 1 Axes>"
      ]
     },
     "metadata": {},
     "output_type": "display_data"
    }
   ],
   "source": [
    "plt.figure(figsize=(10,7))\n",
    "data5 = pd.DataFrame({'Target':['default','non-default','default','non-default','default','non-default'],\n",
    "                    'Average amount':[169918.355998,175748.182419,193914.702632,196585.226093,23994.957947,20837.043674],\n",
    "                    'Type':['Applied','Applied','Final credit','Final credit','Difference','Difference']})\n",
    "\n",
    "ax = sns.barplot(x=\"Type\", y=\"Average amount\", hue=\"Target\", data=data5,palette=\"Blues_d\")\n",
    "plt.title('Previous Applications for Home Credit loans')"
   ]
  }
 ],
 "metadata": {
  "kernelspec": {
   "display_name": "Python 3",
   "language": "python",
   "name": "python3"
  },
  "language_info": {
   "codemirror_mode": {
    "name": "ipython",
    "version": 3
   },
   "file_extension": ".py",
   "mimetype": "text/x-python",
   "name": "python",
   "nbconvert_exporter": "python",
   "pygments_lexer": "ipython3",
   "version": "3.7.3"
  }
 },
 "nbformat": 4,
 "nbformat_minor": 2
}
